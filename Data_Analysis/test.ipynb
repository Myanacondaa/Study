{
 "cells": [
  {
   "cell_type": "markdown",
   "id": "beb8708d",
   "metadata": {},
   "source": [
    "# 주피터 노트북 기본 사용법"
   ]
  },
  {
   "cell_type": "markdown",
   "id": "5227889c",
   "metadata": {},
   "source": [
    "## 주피터 노트북 단축키"
   ]
  },
  {
   "cell_type": "markdown",
   "id": "24eb8086",
   "metadata": {},
   "source": [
    "### 셀 선택 모드(Command Mode)"
   ]
  },
  {
   "cell_type": "code",
   "execution_count": 3,
   "id": "bb3f8653",
   "metadata": {
    "ExecuteTime": {
     "end_time": "2022-05-25T13:46:18.582578Z",
     "start_time": "2022-05-25T13:46:18.572541Z"
    }
   },
   "outputs": [
    {
     "data": {
      "text/plain": [
       "'\\na :\\xa0위에 새로운 셀 추가b :\\xa0아래에 새로운 셀 추가\\nc : 셀 복사하기\\nv : 셀 붙여넣기\\nx : 셀 잘라내기\\ndd : 셀 삭제하기\\np : 셀 아래에 붙여넣기\\n\\xa0\\no : 실행결과\\xa0열기/닫기\\nm : Markdown으로\\xa0변경\\ny : Code로\\xa0변경\\nShift + m : 선택\\xa0셀과\\xa0아래\\xa0셀과\\xa0합치기\\nCtrl + s 또는 s\\xa0 : 파일 저장\\nEnter\\xa0 : 선택\\xa0셀의\\xa0코드\\xa0입력\\xa0모드로\\xa0돌아가기\\n'"
      ]
     },
     "execution_count": 3,
     "metadata": {},
     "output_type": "execute_result"
    }
   ],
   "source": [
    "## 1. ESC or Ctrl+m을 눌러 파랑색이 되면 셀 선택 모드\n",
    "'''\n",
    "a : 위에 새로운 셀 추가b : 아래에 새로운 셀 추가\n",
    "c : 셀 복사하기\n",
    "v : 셀 붙여넣기\n",
    "x : 셀 잘라내기\n",
    "dd : 셀 삭제하기\n",
    "p : 셀 아래에 붙여넣기\n",
    " \n",
    "o : 실행결과 열기/닫기\n",
    "m : Markdown으로 변경\n",
    "y : Code로 변경\n",
    "Shift + m : 선택 셀과 아래 셀과 합치기\n",
    "Ctrl + s 또는 s  : 파일 저장\n",
    "Enter  : 선택 셀의 코드 입력 모드로 돌아가기\n",
    "'''"
   ]
  },
  {
   "cell_type": "code",
   "execution_count": 6,
   "id": "05171feb",
   "metadata": {
    "ExecuteTime": {
     "end_time": "2022-05-25T13:47:26.647297Z",
     "start_time": "2022-05-25T13:47:26.633040Z"
    }
   },
   "outputs": [
    {
     "name": "stdout",
     "output_type": "stream",
     "text": [
      "코드 입력 모드 (Edit Mode)\n"
     ]
    }
   ],
   "source": [
    "print(\"코드 입력 모드 (Edit Mode)\")\n",
    "# Ctrl + Enter : 입력 셀 실행\n",
    "# Shift + Enter : 입력 셀 실행 후 아래 셀로 이동 \n",
    "#(없으면 새로운 셀 추가)Alt + Enter : 입력영역 실행 후 아래 새로운 영역 추가\n",
    "# Ctrl + a : 선택 셀의 코드 전체 선택\n",
    "# Ctrl + z : 선택 셀 내 실행 취소\n",
    "# Ctrl + y : 선택 셀 내 다시 실행\n",
    "# Ctrl + / : 커서 위치 라인 주석처리\n",
    "# Shitf + Ctrl + - : 커서 위치에서 셀 둘로 나누기"
   ]
  },
  {
   "cell_type": "code",
   "execution_count": 7,
   "id": "7b5f1b61",
   "metadata": {
    "ExecuteTime": {
     "end_time": "2022-05-25T13:48:32.793261Z",
     "start_time": "2022-05-25T13:48:32.777287Z"
    }
   },
   "outputs": [
    {
     "name": "stdout",
     "output_type": "stream",
     "text": [
      "Hello Jupyter\n"
     ]
    }
   ],
   "source": [
    "print(\"Hello Jupyter\")"
   ]
  },
  {
   "cell_type": "code",
   "execution_count": 7,
   "id": "5e749142",
   "metadata": {
    "ExecuteTime": {
     "end_time": "2022-05-25T13:48:32.793261Z",
     "start_time": "2022-05-25T13:48:32.777287Z"
    }
   },
   "outputs": [
    {
     "name": "stdout",
     "output_type": "stream",
     "text": [
      "Hello Jupyter\n"
     ]
    }
   ],
   "source": [
    "print(\"Hello Jupyter\")"
   ]
  },
  {
   "cell_type": "code",
   "execution_count": 8,
   "id": "affc0eeb",
   "metadata": {
    "ExecuteTime": {
     "end_time": "2022-05-25T13:52:44.744767Z",
     "start_time": "2022-05-25T13:52:44.740832Z"
    }
   },
   "outputs": [],
   "source": [
    "# multi-cursor\n",
    "# : alt + 마우스 드래그"
   ]
  },
  {
   "cell_type": "code",
   "execution_count": null,
   "id": "e378b433",
   "metadata": {},
   "outputs": [],
   "source": []
  }
 ],
 "metadata": {
  "kernelspec": {
   "display_name": "Python 3 (ipykernel)",
   "language": "python",
   "name": "python3"
  },
  "language_info": {
   "codemirror_mode": {
    "name": "ipython",
    "version": 3
   },
   "file_extension": ".py",
   "mimetype": "text/x-python",
   "name": "python",
   "nbconvert_exporter": "python",
   "pygments_lexer": "ipython3",
   "version": "3.9.7"
  },
  "toc": {
   "base_numbering": 1,
   "nav_menu": {},
   "number_sections": true,
   "sideBar": true,
   "skip_h1_title": false,
   "title_cell": "Table of Contents",
   "title_sidebar": "Contents",
   "toc_cell": false,
   "toc_position": {
    "height": "calc(100% - 180px)",
    "left": "10px",
    "top": "150px",
    "width": "303.837px"
   },
   "toc_section_display": true,
   "toc_window_display": false
  },
  "varInspector": {
   "cols": {
    "lenName": 16,
    "lenType": 16,
    "lenVar": 40
   },
   "kernels_config": {
    "python": {
     "delete_cmd_postfix": "",
     "delete_cmd_prefix": "del ",
     "library": "var_list.py",
     "varRefreshCmd": "print(var_dic_list())"
    },
    "r": {
     "delete_cmd_postfix": ") ",
     "delete_cmd_prefix": "rm(",
     "library": "var_list.r",
     "varRefreshCmd": "cat(var_dic_list()) "
    }
   },
   "types_to_exclude": [
    "module",
    "function",
    "builtin_function_or_method",
    "instance",
    "_Feature"
   ],
   "window_display": false
  }
 },
 "nbformat": 4,
 "nbformat_minor": 5
}
